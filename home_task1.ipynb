{
 "cells": [
  {
   "cell_type": "code",
   "execution_count": 21,
   "id": "8a5d43ab-e38f-4175-ad01-fd0036f595c2",
   "metadata": {},
   "outputs": [],
   "source": [
    "class Test:\n",
    "    @staticmethod\n",
    "    def assert_equals(a, b, *args, **kwargs):\n",
    "        assert a == b\n",
    "        print('Passed')"
   ]
  },
  {
   "cell_type": "markdown",
   "id": "ebca7e83-f0d8-44b2-8878-3e328f7dfd2f",
   "metadata": {},
   "source": [
    "Problem https://edabit.com/challenge/3Ekam9jvbNKHDtx4K (2 point)"
   ]
  },
  {
   "cell_type": "code",
   "execution_count": 19,
   "id": "bc99264b-a05d-48d1-b340-f5ca382920dd",
   "metadata": {},
   "outputs": [
    {
     "name": "stdout",
     "output_type": "stream",
     "text": [
      "4.12\n"
     ]
    }
   ],
   "source": [
    "import math\n",
    "\n",
    "def line_length(v1, v2):\n",
    "    if not isinstance(v1, list):\n",
    "        raise TypeError(\"Параметр должен быть списком\")\n",
    "    if len(v1) != 2:\n",
    "        raise ValueError(\"Список должен иметь размер 2\")\n",
    "    if not isinstance(v2, list):\n",
    "        raise TypeError(\"Параметр должен быть списком\")\n",
    "    if len(v2) != 2:\n",
    "        raise ValueError(\"Список должен иметь размер 2\")\n",
    "    x1 = v1[0]\n",
    "    x2 = v2[0]\n",
    "    y1 = v1[1]\n",
    "    y2 = v2[1]\n",
    "    length = math.sqrt((x1-x2) ** 2 + (y1-y2) ** 2)\n",
    "    return round(length, 2)\n",
    "v1 = [1,1]\n",
    "v2 = [5,0]\n",
    "print (func(v1,v2))"
   ]
  },
  {
   "cell_type": "code",
   "execution_count": 24,
   "id": "8bca3708-d2df-42d6-b564-8ea41f98c4b0",
   "metadata": {},
   "outputs": [
    {
     "name": "stdout",
     "output_type": "stream",
     "text": [
      "Passed\n",
      "Passed\n",
      "Passed\n",
      "Passed\n"
     ]
    }
   ],
   "source": [
    "Test.assert_equals(line_length([15, 7], [22, 11]), 8.06)\n",
    "Test.assert_equals(line_length([0, 0], [0, 0]), 0)\n",
    "Test.assert_equals(line_length([0, 0], [1, 1]), 1.41)\n",
    "Test.assert_equals(line_length([30, 10], [13, -5]), 22.67)"
   ]
  },
  {
   "cell_type": "markdown",
   "id": "2701a6b8-3c16-471c-9d40-700ecaedfbd5",
   "metadata": {},
   "source": [
    "Problem https://edabit.com/challenge/2zKetgAJp4WRFXiDT (2 point)"
   ]
  },
  {
   "cell_type": "code",
   "execution_count": 33,
   "id": "35fe1ceb-7b99-4344-be45-6b03f01915f0",
   "metadata": {},
   "outputs": [],
   "source": [
    "import math\n",
    "\n",
    "def number_length(x):\n",
    "    if not isinstance(x, int):\n",
    "        raise TypeError(\"Параметр должен быть целым числом\")\n",
    "    length = 1\n",
    "    while True:\n",
    "        if x // pow(10,length) > 0:\n",
    "            length += 1\n",
    "        else:\n",
    "            break\n",
    "    return length        "
   ]
  },
  {
   "cell_type": "code",
   "execution_count": 34,
   "id": "9b0cd001-1738-4c6d-8049-50a2e30b43ac",
   "metadata": {},
   "outputs": [
    {
     "name": "stdout",
     "output_type": "stream",
     "text": [
      "Passed\n",
      "Passed\n",
      "Passed\n",
      "Passed\n",
      "Passed\n",
      "Passed\n",
      "Passed\n"
     ]
    }
   ],
   "source": [
    "Test.assert_equals(number_length(10), 2)\n",
    "Test.assert_equals(number_length(5000), 4)\n",
    "Test.assert_equals(number_length(0), 1)\n",
    "Test.assert_equals(number_length(4039182), 7)\n",
    "Test.assert_equals(number_length(9999999999999999), 16)\n",
    "Test.assert_equals(number_length(1), 1)\n",
    "Test.assert_equals(number_length(777777777777777777777777777777), 30)"
   ]
  },
  {
   "cell_type": "markdown",
   "id": "f3ec304e-047c-487d-bbd3-7461c689a982",
   "metadata": {},
   "source": [
    "Problem https://edabit.com/challenge/NNhkGocuPMcryW7GP (2 point)"
   ]
  },
  {
   "cell_type": "code",
   "execution_count": 40,
   "id": "b901bc71-bc77-4878-a859-a497695e769f",
   "metadata": {},
   "outputs": [
    {
     "name": "stdout",
     "output_type": "stream",
     "text": [
      "50.0\n"
     ]
    }
   ],
   "source": [
    "import math\n",
    "\n",
    "def square_areas_difference(x):\n",
    "    if not isinstance(x, int) or x < 0:\n",
    "        raise TypeError(\"Параметр должен быть целым положительным числом\")\n",
    "    s1 = 4 * math.pow(x,2)\n",
    "    s2 = 2 * math.pow(x,2)\n",
    "    return math.fabs(s2 - s1)"
   ]
  },
  {
   "cell_type": "code",
   "execution_count": 41,
   "id": "f92f111c-089d-4f8c-8a60-ea6b4de9d331",
   "metadata": {},
   "outputs": [
    {
     "name": "stdout",
     "output_type": "stream",
     "text": [
      "Passed\n",
      "Passed\n",
      "Passed\n",
      "Passed\n"
     ]
    }
   ],
   "source": [
    "Test.assert_equals(square_areas_difference(5), 50)\n",
    "Test.assert_equals(square_areas_difference(6), 72)\n",
    "Test.assert_equals(square_areas_difference(7), 98)\n",
    "Test.assert_equals(square_areas_difference(17), 578)"
   ]
  },
  {
   "cell_type": "markdown",
   "id": "47f14567-bb2e-464c-a86f-2259e68856b9",
   "metadata": {},
   "source": [
    "Problem https://edabit.com/challenge/yvJbdkmKHvCNtcZy9 (3 point)"
   ]
  },
  {
   "cell_type": "code",
   "execution_count": 48,
   "id": "9a4b9362-35a0-483d-8ec1-42f786755159",
   "metadata": {},
   "outputs": [],
   "source": [
    "import math\n",
    "def is_disarium(x):\n",
    "    if not isinstance(x, int):\n",
    "        raise TypeError(\"Параметр должен быть целым числом\")\n",
    "    number = x\n",
    "    length = number_length(x)\n",
    "    s = 0\n",
    "    for i in reversed(range(1, length + 1)):\n",
    "        s += math.pow(number % 10, i)\n",
    "        number = number // 10\n",
    "    return s == x"
   ]
  },
  {
   "cell_type": "code",
   "execution_count": 49,
   "id": "ad65c49c-9291-4497-a939-217e74a70497",
   "metadata": {},
   "outputs": [
    {
     "name": "stdout",
     "output_type": "stream",
     "text": [
      "Passed\n",
      "Passed\n",
      "Passed\n",
      "Passed\n",
      "Passed\n",
      "Passed\n",
      "Passed\n",
      "Passed\n",
      "Passed\n",
      "Passed\n",
      "Passed\n",
      "Passed\n"
     ]
    }
   ],
   "source": [
    "num_vector, res_vector = [\n",
    "  [6, 75, 135, 466, 372, 175, 1, 696, 876, 89, 518, 598],\n",
    "  [True, False, True, False, False, True, True, False, False, True, True, True]\n",
    "]\n",
    "for i, n in enumerate(num_vector): Test.assert_equals(is_disarium(n), res_vector[i])"
   ]
  },
  {
   "cell_type": "markdown",
   "id": "37eac5e0-1cc3-4bb8-9fc4-cbaadddfd351",
   "metadata": {},
   "source": [
    "Problem https://edabit.com/challenge/NYEaXXCnSj9jteNWA (3 point)"
   ]
  },
  {
   "cell_type": "code",
   "execution_count": 51,
   "id": "cc658f89-b7cc-4616-80bd-60c086e80f20",
   "metadata": {},
   "outputs": [],
   "source": [
    "def ave_spd(time, speed1, speed2):\n",
    "    \n",
    "    time1 = time / 60\n",
    "    distance = time1 * speed1\n",
    "    time2 = distance / speed2\n",
    "    avg_speed = 2 * distance / (time1 + time2)\n",
    "    return avg_speed\n"
   ]
  },
  {
   "cell_type": "code",
   "execution_count": 52,
   "id": "ebfd4b6e-57ff-4705-bb88-fecbc6c6525e",
   "metadata": {},
   "outputs": [
    {
     "name": "stdout",
     "output_type": "stream",
     "text": [
      "Passed\n",
      "Passed\n",
      "Passed\n",
      "Passed\n"
     ]
    }
   ],
   "source": [
    "Test.assert_equals(ave_spd(18, 10, 30), 15)\n",
    "Test.assert_equals(ave_spd(18, 20, 60), 30)\n",
    "Test.assert_equals(ave_spd(30, 10, 30), 15)\n",
    "Test.assert_equals(ave_spd(30, 8, 24), 12)"
   ]
  },
  {
   "cell_type": "markdown",
   "id": "a80341ab-c93e-4985-aaaf-dfe9c382d4eb",
   "metadata": {},
   "source": [
    "Problem https://edabit.com/challenge/abdsaD6gwjgAgevsG (3 point)"
   ]
  },
  {
   "cell_type": "code",
   "execution_count": 53,
   "id": "1e679fc6-2109-43b2-a8a6-8eeafdf4a7cc",
   "metadata": {},
   "outputs": [],
   "source": [
    "def power_ranger(power, number1, number2):\n",
    "    a2 = math.floor(math.pow(number2, 1/power))\n",
    "    a1 = math.ceil(math.pow(number1, 1/power))\n",
    "    return a2 - a1 + 1\n",
    "\n",
    "    "
   ]
  },
  {
   "cell_type": "code",
   "execution_count": 54,
   "id": "282a0367-0206-4087-b0f9-501ac6a78193",
   "metadata": {},
   "outputs": [
    {
     "name": "stdout",
     "output_type": "stream",
     "text": [
      "Passed\n",
      "Passed\n",
      "Passed\n",
      "Passed\n",
      "Passed\n",
      "Passed\n",
      "Passed\n"
     ]
    }
   ],
   "source": [
    "Test.assert_equals(power_ranger(5, 31, 33), 1)\n",
    "Test.assert_equals(power_ranger(4, 250, 1300), 3)\n",
    "Test.assert_equals(power_ranger(2, 49, 65), 2)\n",
    "Test.assert_equals(power_ranger(3, 1, 27), 3)\n",
    "Test.assert_equals(power_ranger(10, 1, 5), 1)\n",
    "Test.assert_equals(power_ranger(1, 1, 5), 5)\n",
    "Test.assert_equals(power_ranger(2, 1, 100), 10)"
   ]
  }
 ],
 "metadata": {
  "kernelspec": {
   "display_name": "Python [conda env:base] *",
   "language": "python",
   "name": "conda-base-py"
  },
  "language_info": {
   "codemirror_mode": {
    "name": "ipython",
    "version": 3
   },
   "file_extension": ".py",
   "mimetype": "text/x-python",
   "name": "python",
   "nbconvert_exporter": "python",
   "pygments_lexer": "ipython3",
   "version": "3.13.5"
  }
 },
 "nbformat": 4,
 "nbformat_minor": 5
}
