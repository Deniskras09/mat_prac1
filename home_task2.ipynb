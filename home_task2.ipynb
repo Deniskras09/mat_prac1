{
 "cells": [
  {
   "cell_type": "markdown",
   "id": "18afa5b5-940c-4193-8b12-09b0ffc13785",
   "metadata": {},
   "source": [
    "Создайте массив 10х10, заполненный в центре нулями, а по границе единицами"
   ]
  },
  {
   "cell_type": "code",
   "execution_count": 6,
   "id": "89fe0b7f-3d4a-42b5-9bb3-1046bbdd5d29",
   "metadata": {},
   "outputs": [
    {
     "data": {
      "text/plain": [
       "array([[1., 1., 1., 1., 1., 1., 1., 1., 1., 1.],\n",
       "       [1., 0., 0., 0., 0., 0., 0., 0., 0., 1.],\n",
       "       [1., 0., 0., 0., 0., 0., 0., 0., 0., 1.],\n",
       "       [1., 0., 0., 0., 0., 0., 0., 0., 0., 1.],\n",
       "       [1., 0., 0., 0., 0., 0., 0., 0., 0., 1.],\n",
       "       [1., 0., 0., 0., 0., 0., 0., 0., 0., 1.],\n",
       "       [1., 0., 0., 0., 0., 0., 0., 0., 0., 1.],\n",
       "       [1., 0., 0., 0., 0., 0., 0., 0., 0., 1.],\n",
       "       [1., 0., 0., 0., 0., 0., 0., 0., 0., 1.],\n",
       "       [1., 1., 1., 1., 1., 1., 1., 1., 1., 1.]])"
      ]
     },
     "execution_count": 6,
     "metadata": {},
     "output_type": "execute_result"
    }
   ],
   "source": [
    "import numpy as np\n",
    "z = np.pad(np.zeros((8,8)),((1,1),(1,1)), 'constant', constant_values = (1))"
   ]
  },
  {
   "cell_type": "markdown",
   "id": "385593a9-e1fd-4a64-a435-dc79848b90c6",
   "metadata": {},
   "source": [
    "Создайте массив 8х8, заполненный 0 и 1 в шахматном порядке"
   ]
  },
  {
   "cell_type": "code",
   "execution_count": 18,
   "id": "6972450c-7806-42c1-8805-84b9650e7a57",
   "metadata": {},
   "outputs": [
    {
     "name": "stdout",
     "output_type": "stream",
     "text": [
      "[[0 1 0 1 0 1 0 1]\n",
      " [1 0 1 0 1 0 1 0]\n",
      " [0 1 0 1 0 1 0 1]\n",
      " [1 0 1 0 1 0 1 0]\n",
      " [0 1 0 1 0 1 0 1]\n",
      " [1 0 1 0 1 0 1 0]\n",
      " [0 1 0 1 0 1 0 1]\n",
      " [1 0 1 0 1 0 1 0]]\n"
     ]
    }
   ],
   "source": [
    "n = (np.arange(8) + np.arange(8).reshape((8,-1))) % 2\n",
    "print(n)"
   ]
  },
  {
   "cell_type": "markdown",
   "id": "d6d5abc0-5a3f-423c-8114-54e0f292389d",
   "metadata": {},
   "source": [
    "Создайте матрицу 5x5 со значениями 1,2,3,4 под главной диагональю. Остальные значения - нули"
   ]
  },
  {
   "cell_type": "code",
   "execution_count": 26,
   "id": "476b218c-ea4a-4738-a261-d14ae78a9185",
   "metadata": {},
   "outputs": [
    {
     "name": "stdout",
     "output_type": "stream",
     "text": [
      "[[0 0 0 0 0]\n",
      " [1 0 0 0 0]\n",
      " [0 2 0 0 0]\n",
      " [0 0 3 0 0]\n",
      " [0 0 0 4 0]]\n"
     ]
    }
   ],
   "source": [
    "z = np.diag([1,2,3,4], -1)\n",
    "print(z)"
   ]
  },
  {
   "cell_type": "markdown",
   "id": "3c581e8d-792c-4a27-a282-a45ea79926e0",
   "metadata": {},
   "source": [
    "Создайте случайный массив 5х5 и нормируйте его так, чтобы среднее вдоль каждой строки было равно нулю."
   ]
  },
  {
   "cell_type": "code",
   "execution_count": 38,
   "id": "5a0f6f50-570f-4bad-81ae-e48a7a1b0302",
   "metadata": {},
   "outputs": [
    {
     "name": "stdout",
     "output_type": "stream",
     "text": [
      "[[-4.2  1.8  1.8 -2.2 -2.2]\n",
      " [-3.8 -1.8  2.2 -0.8  3.2]\n",
      " [ 0.8 -3.2 -2.2 -2.2  3.8]\n",
      " [ 1.2 -0.8  3.2  6.2 -0.8]\n",
      " [-1.6 -2.6  0.4  0.4  5.4]]\n"
     ]
    }
   ],
   "source": [
    "z = np.random.randint(1,10,(5,5)) - np.mean(z,1).reshape((5,-1))\n",
    "print(z)"
   ]
  },
  {
   "cell_type": "markdown",
   "id": "6c85cacf-8033-451f-baf7-bfbc4138bf87",
   "metadata": {},
   "source": [
    "Создайте двумерный массив 10x3, заполненный случайными числами от 0 до 1. В каждой строке выберите значение, наиболее близкое к 0.5"
   ]
  },
  {
   "cell_type": "code",
   "execution_count": 68,
   "id": "ed489e28-9163-4159-bc69-ae4d0606f85b",
   "metadata": {},
   "outputs": [
    {
     "name": "stdout",
     "output_type": "stream",
     "text": [
      "[[0.70942885 0.37251323 0.45580341]\n",
      " [0.82364164 0.84492843 0.96583622]\n",
      " [0.13184658 0.09582266 0.46595827]\n",
      " [0.75712952 0.5737034  0.53179069]\n",
      " [0.80187531 0.99813822 0.35504123]\n",
      " [0.69053524 0.44393108 0.35311806]\n",
      " [0.5373022  0.24368048 0.51053753]\n",
      " [0.05266368 0.85278334 0.07967136]\n",
      " [0.15328481 0.49891607 0.19177413]\n",
      " [0.92309904 0.56260415 0.29745139]]\n"
     ]
    },
    {
     "data": {
      "text/plain": [
       "array([0.45580341, 0.82364164, 0.46595827, 0.53179069, 0.35504123,\n",
       "       0.44393108, 0.51053753, 0.85278334, 0.49891607, 0.56260415])"
      ]
     },
     "execution_count": 68,
     "metadata": {},
     "output_type": "execute_result"
    }
   ],
   "source": [
    "z = np.random.random((10,3))\n",
    "print(z)\n",
    "z[np.arange(10),np.abs(z - 0.5).argmin(1)]"
   ]
  },
  {
   "cell_type": "markdown",
   "id": "330eaf3b-af54-4bf8-8879-ae359181d864",
   "metadata": {},
   "source": [
    "Создайте двумерный массив 6x6, заполненный случайными значениями. Сумму по каждой строке поделите на максимальный элемент из столбца с тем же индексом"
   ]
  },
  {
   "cell_type": "code",
   "execution_count": 54,
   "id": "5d8d426b-5b10-4112-8348-9ea590e518ac",
   "metadata": {},
   "outputs": [
    {
     "name": "stdout",
     "output_type": "stream",
     "text": [
      "[[73 32 82 95 90 81]\n",
      " [44 18 78 46  2 24]\n",
      " [29 24 38  7 15 47]\n",
      " [27 13 22 39 50 55]\n",
      " [28 94 94 34 68 46]\n",
      " [51 57 54 82 20 69]]\n",
      "[6.20547945 2.25531915 1.70212766 2.16842105 4.04444444 4.11111111]\n"
     ]
    }
   ],
   "source": [
    "arr = np.random.rand(0, 100, size = (6,6))\n",
    "print(arr)\n",
    "print(np.sum(arr, axis = 1) / np.max(arr, axis = 0)) "
   ]
  },
  {
   "cell_type": "markdown",
   "id": "62e51423-c51b-4611-8076-d38919cf7530",
   "metadata": {},
   "source": [
    "На примере массива x = np.array([6, 2, 0, 3, 0, 0, 5, 7, 0]) найдите максимальный элемент в массиве среди элементов, перед которыми стоит ноль"
   ]
  },
  {
   "cell_type": "code",
   "execution_count": 89,
   "id": "1a09d6cb-7076-4e63-8920-59207a7e8bce",
   "metadata": {},
   "outputs": [
    {
     "name": "stdout",
     "output_type": "stream",
     "text": [
      "[False  True False False False False False]\n"
     ]
    }
   ],
   "source": [
    "z = np.array([0,1,2,1,7,3,0])\n",
    "cond = np.zeros_like(z, dtype = bool)\n",
    "cond[1:] = (z[:-1] == 0)\n",
    "np.max(z, where = cond, initial = 0)\n",
    "where=np.insert(z[:-1] == 0, 0, False)\n",
    "print(where)"
   ]
  },
  {
   "cell_type": "markdown",
   "id": "dc842236-d055-4ed7-bcc6-e3213b47fa0a",
   "metadata": {},
   "source": [
    "Пусть заданы два массива x = np.ones(10) и i = np.array([0, 1, 2, 3, 5, 5, 5, 8]). Прибавьте единицу к тем элементам массива x, индексы которых указаны в массиве i. В случае, если некоторый индекс встретился в массиве i несколько раз, прибавьте к соответствующему элементу массива x число вхождений данного индекса в массив i."
   ]
  },
  {
   "cell_type": "code",
   "execution_count": 114,
   "id": "c72b36b7-2f7c-4d56-b5ef-d7d06b693142",
   "metadata": {},
   "outputs": [
    {
     "name": "stdout",
     "output_type": "stream",
     "text": [
      "[2. 2. 2. 4. 2. 3. 1. 1. 1. 1.]\n"
     ]
    }
   ],
   "source": [
    "x = np.ones(10)\n",
    "i = np.array([0,1,2,3,3,5,3,5,4])\n",
    "x = x + np.bincount(i, minlength = x.shape[0])\n",
    "print(x)"
   ]
  },
  {
   "cell_type": "markdown",
   "id": "3c093db6-965b-48d3-bf34-3d47b606db8e",
   "metadata": {},
   "source": [
    "Задайте два массива a = np.array([[1, 4.9, 2.4], [7.1, 7, 9.8], [2, 4.6, 1.2]]) и b = np.array([3, 5, 10, 0]). Создайте массив, в котором каждый элемент первого массива заменен на ближайший к нему элемент второго массива."
   ]
  },
  {
   "cell_type": "code",
   "execution_count": 38,
   "id": "2075aa6e-7f10-4529-b7d0-59b09be6732d",
   "metadata": {},
   "outputs": [
    {
     "name": "stdout",
     "output_type": "stream",
     "text": [
      "[[0 5 3]\n",
      " [5 5 5]\n",
      " [3 5 0]]\n",
      "[[0 5 3]\n",
      " [5 5 5]\n",
      " [3 5 0]]\n"
     ]
    }
   ],
   "source": [
    "a = np.array([[1, 4.9, 2.4], [7.1, 7, 9.8], [2, 4.6, 1.2]])\n",
    "b = np.array([0,3,5])\n",
    "res = b[np.abs(np.stack([a] * b.shape[0]) - b.reshape((b.shape[0],1,1))).argmin(axis = 0)]\n",
    "print(res)"
   ]
  },
  {
   "cell_type": "markdown",
   "id": "d0d4e66b-d804-4b3e-9918-718838653f5e",
   "metadata": {},
   "source": [
    "Найдите скользящие средние с окном размера 3 по массиву a = np.array([1, 4.9, 2.4, 7.1, 7, 9.8, 2, -5, 4.6, 1.2])"
   ]
  },
  {
   "cell_type": "code",
   "execution_count": 45,
   "id": "8fcd91b3-ea6c-4965-9ef0-ebba51b25f31",
   "metadata": {},
   "outputs": [
    {
     "name": "stdout",
     "output_type": "stream",
     "text": [
      "[0, 1, 4, 9, 16, 25, 36, 49, 64, 81]\n",
      "[2, 3, 4, 5, 6, 7]\n"
     ]
    }
   ],
   "source": [
    "arr = np.array([1,2,3,4,5,6,7,8])\n",
    "window = 3\n",
    "result = [int(np.sum(arr[i:i+window]) / window) for i in range(arr.shape[0] - window + 1)]\n",
    "print(result)"
   ]
  },
  {
   "cell_type": "code",
   "execution_count": null,
   "id": "b2e2e94a-bf14-4470-8010-61b80dae0b9a",
   "metadata": {},
   "outputs": [],
   "source": []
  }
 ],
 "metadata": {
  "kernelspec": {
   "display_name": "Python [conda env:base] *",
   "language": "python",
   "name": "conda-base-py"
  },
  "language_info": {
   "codemirror_mode": {
    "name": "ipython",
    "version": 3
   },
   "file_extension": ".py",
   "mimetype": "text/x-python",
   "name": "python",
   "nbconvert_exporter": "python",
   "pygments_lexer": "ipython3",
   "version": "3.13.5"
  }
 },
 "nbformat": 4,
 "nbformat_minor": 5
}
